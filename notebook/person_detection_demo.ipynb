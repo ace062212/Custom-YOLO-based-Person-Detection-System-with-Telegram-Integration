{
 "cells": [
  {
   "cell_type": "markdown",
   "metadata": {},
   "source": [
    "# 🎥 실시간 사람 감지 시스템 데모\n",
    "YOLO를 활용한 실시간 객체 감지 및 텔레그램 알림 시스템 구현"
   ]
  },
  {
   "cell_type": "markdown",
   "metadata": {},
   "source": [
    "## 1. 필요한 패키지 설치 및 임포트"
   ]
  },
  {
   "cell_type": "code",
   "execution_count": null,
   "metadata": {},
   "outputs": [],
   "source": [
    "# 패키지 설치\n",
    "!pip install --upgrade ultralytics\n",
    "!pip install opencv-python\n",
    "!pip install python-telegram-bot"
   ]
  },
  {
   "cell_type": "code",
   "execution_count": null,
   "metadata": {},
   "outputs": [],
   "source": [
    "# 필요한 라이브러리 임포트\n",
    "import cv2\n",
    "import pandas as pd\n",
    "import numpy as np\n",
    "from matplotlib import pyplot as plt\n",
    "from ultralytics import YOLO\n",
    "import requests\n",
    "import time"
   ]
  },
  {
   "cell_type": "markdown",
   "metadata": {},
   "source": [
    "## 2. 유틸리티 함수 정의"
   ]
  },
  {
   "cell_type": "code",
   "execution_count": null,
   "metadata": {},
   "outputs": [],
   "source": [
    "def fn_imshow(img, axis='on', **kwargs):\n",
    "    \"\"\"이미지 출력 함수\"\"\"\n",
    "    img_rgb = cv2.cvtColor(img, cv2.COLOR_BGR2RGB)\n",
    "    plt.figure(**kwargs)\n",
    "    if axis!='on': plt.axis('off')\n",
    "    plt.imshow(img_rgb)\n",
    "    plt.show()"
   ]
  },
  {
   "cell_type": "markdown",
   "metadata": {},
   "source": [
    "## 3. YOLO 모델 설정"
   ]
  },
  {
   "cell_type": "code",
   "execution_count": null,
   "metadata": {},
   "outputs": [],
   "source": [
    "# YOLO 모델 로드\n",
    "model = YOLO('best.pt')\n",
    "model.conf = 0.9  # 신뢰도 임계값 설정"
   ]
  },
  {
   "cell_type": "markdown",
   "metadata": {},
   "source": [
    "## 4. 텔레그램 설정\n",
    "⚠️ 실제 토큰과 채팅 ID는 환경변수로 관리해야 합니다."
   ]
  },
  {
   "cell_type": "code",
   "execution_count": null,
   "metadata": {},
   "outputs": [],
   "source": [
    "# 텔레그램 설정 (실제 값은 환경변수로 관리)\n",
    "TELEGRAM_BOT_TOKEN = \"YOUR_BOT_TOKEN\"\n",
    "CHAT_ID = \"YOUR_CHAT_ID\""
   ]
  },
  {
   "cell_type": "markdown",
   "metadata": {},
   "source": [
    "## 5. 실시간 감지 테스트"
   ]
  },
  {
   "cell_type": "code",
   "execution_count": null,
   "metadata": {},
   "outputs": [],
   "source": [
    "# 웹캠 테스트 코드\n",
    "cap = cv2.VideoCapture(0)\n",
    "last_message_time = 0\n",
    "\n",
    "try:\n",
    "    while True:\n",
    "        ret, frame = cap.read()\n",
    "        results = model(frame)\n",
    "        res_plotted = results[0].plot()\n",
    "        \n",
    "        cv2.imshow('YOLOv8 Detection', res_plotted)\n",
    "        \n",
    "        if results[0].boxes:\n",
    "            current_time = time.time()\n",
    "            if current_time - last_message_time >= 5:\n",
    "                print(\"Person detected!\")\n",
    "                last_message_time = current_time\n",
    "        \n",
    "        if cv2.waitKey(1) & 0xFF == ord('q'):\n",
    "            break\n",
    "            \n",
    "finally:\n",
    "    cap.release()\n",
    "    cv2.destroyAllWindows()"
   ]
  },
  {
   "cell_type": "markdown",
   "metadata": {},
   "source": [
    "## 6. 비디오 파일 감지 테스트\n",
    "비디오 파일에서 사람을 감지하고 알림을 보내는 기능을 테스트합니다."
   ]
  },
  {
   "cell_type": "code",
   "execution_count": null,
   "metadata": {},
   "outputs": [],
   "source": [
    "# 비디오 파일 경로 설정\n",
    "video_path = 'demo/videos/test_video.mp4'  # 실제 비디오 파일 경로로 수정 필요"
   ]
  },
  {
   "cell_type": "code",
   "execution_count": null,
   "metadata": {},
   "outputs": [],
   "source": [
    "# 비디오 파일 테스트 코드\n",
    "cap = cv2.VideoCapture(video_path)\n",
    "last_message_time = 0\n",
    "\n",
    "try:\n",
    "    while True:\n",
    "        ret, frame = cap.read()\n",
    "        if not ret:  # 비디오가 끝나면 종료\n",
    "            print(\"비디오 재생 완료\")\n",
    "            break\n",
    "            \n",
    "        results = model(frame)\n",
    "        res_plotted = results[0].plot()\n",
    "        \n",
    "        cv2.imshow('YOLOv8 Video Detection', res_plotted)\n",
    "        \n",
    "        if results[0].boxes:\n",
    "            current_time = time.time()\n",
    "            if current_time - last_message_time >= 5:\n",
    "                print(\"Person detected in video!\")\n",
    "                last_message_time = current_time\n",
    "        \n",
    "        if cv2.waitKey(1) & 0xFF == ord('q'):\n",
    "            break\n",
    "            \n",
    "finally:\n",
    "    cap.release()\n",
    "    cv2.destroyAllWindows()"
   ]
  }
 ],
 "metadata": {
  "language_info": {
   "name": "python"
  }
 },
 "nbformat": 4,
 "nbformat_minor": 2
}
